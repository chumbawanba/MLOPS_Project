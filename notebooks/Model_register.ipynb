{
 "cells": [
  {
   "cell_type": "code",
   "execution_count": 3,
   "id": "e3bb7eca-da0f-45ae-86a1-e0eed8b55ce4",
   "metadata": {},
   "outputs": [],
   "source": [
    "import mlflow\n",
    "from mlflow import MlflowClient\n",
    "\n",
    "import warnings\n",
    "warnings.filterwarnings('ignore')"
   ]
  },
  {
   "cell_type": "code",
   "execution_count": 4,
   "id": "67ace146-2783-458a-8222-1521d43d1e86",
   "metadata": {},
   "outputs": [],
   "source": [
    "MLFLOW_TRACKING_URI = 'http://127.0.0.1:5000'\n",
    "EXPERIMENT_NAME = 'portugal-rent-price'\n",
    "\n",
    "\n",
    "mlflow.set_tracking_uri(MLFLOW_TRACKING_URI)"
   ]
  },
  {
   "cell_type": "code",
   "execution_count": 6,
   "id": "835b9c4e-3bdd-48e2-bf9c-75a51366c70c",
   "metadata": {},
   "outputs": [
    {
     "data": {
      "text/plain": [
       "<mlflow.tracking.client.MlflowClient at 0x242acc4f8d0>"
      ]
     },
     "execution_count": 6,
     "metadata": {},
     "output_type": "execute_result"
    }
   ],
   "source": [
    "client = MlflowClient(tracking_uri=MLFLOW_TRACKING_URI)\n",
    "client"
   ]
  },
  {
   "cell_type": "code",
   "execution_count": 7,
   "id": "278a7ff3-30e2-41bb-93d2-507869e04272",
   "metadata": {},
   "outputs": [
    {
     "data": {
      "text/plain": [
       "<Experiment: artifact_location='mlflow-artifacts:/1', creation_time=1695056326392, experiment_id='1', last_update_time=1695056326392, lifecycle_stage='active', name='portugal-rent-price', tags={}>"
      ]
     },
     "execution_count": 7,
     "metadata": {},
     "output_type": "execute_result"
    }
   ],
   "source": [
    "experiment = client.get_experiment_by_name(EXPERIMENT_NAME)\n",
    "experiment\n"
   ]
  },
  {
   "cell_type": "code",
   "execution_count": 9,
   "id": "d5ddd4ef-909c-4a67-a2f3-29df35017b19",
   "metadata": {},
   "outputs": [
    {
     "data": {
      "text/plain": [
       "'1'"
      ]
     },
     "execution_count": 9,
     "metadata": {},
     "output_type": "execute_result"
    }
   ],
   "source": [
    "experiment.experiment_id"
   ]
  },
  {
   "cell_type": "code",
   "execution_count": 8,
   "id": "e37deec1-33dc-4a28-a843-ec62068660d3",
   "metadata": {},
   "outputs": [],
   "source": [
    "query = 'metrics.training_r2_score > 0.4'"
   ]
  },
  {
   "cell_type": "code",
   "execution_count": 13,
   "id": "dfff32c4-8f32-4745-9ccf-bf8d6f42e50a",
   "metadata": {},
   "outputs": [],
   "source": [
    "beast_model = client.search_runs(\n",
    "    experiment_ids=experiment.experiment_id,\n",
    "    max_results=5,\n",
    "    filter_string=query,\n",
    "    order_by=['metrics.training_r2_score DESC']\n",
    ")"
   ]
  },
  {
   "cell_type": "code",
   "execution_count": 16,
   "id": "2f6d2d7e-58a5-45b1-9020-ca6c22123464",
   "metadata": {},
   "outputs": [
    {
     "data": {
      "text/plain": [
       "'6c34d64fb831426e8e4103f5d350e140'"
      ]
     },
     "execution_count": 16,
     "metadata": {},
     "output_type": "execute_result"
    }
   ],
   "source": [
    "run_id = beast_model[0].info.run_id\n",
    "run_id"
   ]
  },
  {
   "cell_type": "code",
   "execution_count": null,
   "id": "d39cb830-e56f-459e-b4dc-8e40a4c8f8a0",
   "metadata": {},
   "outputs": [],
   "source": [
    "# logged_model = f'runs:/{run_id}/model'\n",
    "\n",
    "# Load model as a PyFuncModel.\n",
    "loaded_model = mlflow.pyfunc.load_model(logged_model)"
   ]
  },
  {
   "cell_type": "markdown",
   "id": "49d67fea-cfd6-4b18-9e1b-b5e89458d7e2",
   "metadata": {},
   "source": [
    "# Registro do Modelo "
   ]
  },
  {
   "cell_type": "code",
   "execution_count": 19,
   "id": "606aa231-8e2e-4851-ac1f-a2b9bf59ec7c",
   "metadata": {},
   "outputs": [
    {
     "name": "stderr",
     "output_type": "stream",
     "text": [
      "Successfully registered model 'portugal-rent-price'.\n",
      "2023/09/25 17:40:34 INFO mlflow.tracking._model_registry.client: Waiting up to 300 seconds for model version to finish creation. Model name: portugal-rent-price, version 1\n",
      "Created version '1' of model 'portugal-rent-price'.\n"
     ]
    },
    {
     "data": {
      "text/plain": [
       "<ModelVersion: aliases=[], creation_timestamp=1695660034926, current_stage='None', description='', last_updated_timestamp=1695660034926, name='portugal-rent-price', run_id='6c34d64fb831426e8e4103f5d350e140', run_link='', source='mlflow-artifacts:/1/6c34d64fb831426e8e4103f5d350e140/artifacts/model', status='READY', status_message='', tags={}, user_id='', version='1'>"
      ]
     },
     "execution_count": 19,
     "metadata": {},
     "output_type": "execute_result"
    }
   ],
   "source": [
    "mlflow.register_model(model_uri=logged_model, name=EXPERIMENT_NAME)"
   ]
  },
  {
   "cell_type": "code",
   "execution_count": 20,
   "id": "66305a79-777b-4e02-b670-b46258544f8d",
   "metadata": {},
   "outputs": [],
   "source": [
    "from datetime import datetime"
   ]
  },
  {
   "cell_type": "code",
   "execution_count": 22,
   "id": "4a155962-e016-4661-b058-7157711d6576",
   "metadata": {},
   "outputs": [
    {
     "data": {
      "text/plain": [
       "<ModelVersion: aliases=[], creation_timestamp=1695660034926, current_stage='Staging', description='Atualizado para staging no dia 2023-09-25 17:48:09.427417', last_updated_timestamp=1695660489437, name='portugal-rent-price', run_id='6c34d64fb831426e8e4103f5d350e140', run_link='', source='mlflow-artifacts:/1/6c34d64fb831426e8e4103f5d350e140/artifacts/model', status='READY', status_message='', tags={}, user_id='', version='1'>"
      ]
     },
     "execution_count": 22,
     "metadata": {},
     "output_type": "execute_result"
    }
   ],
   "source": [
    "client.transition_model_version_stage(EXPERIMENT_NAME, '2', 'Staging', archive_existing_versions=True)\n",
    "\n",
    "client.update_model_version(EXPERIMENT_NAME, '1', description=f'Atualizado para staging no dia {datetime.now()}')"
   ]
  },
  {
   "cell_type": "code",
   "execution_count": 23,
   "id": "5a33a821-c6d5-4d64-86e3-517919bc6835",
   "metadata": {},
   "outputs": [
    {
     "data": {
      "text/plain": [
       "<ModelVersion: aliases=[], creation_timestamp=1695660034926, current_stage='Production', description='Atualizado para Produção no dia 2023-09-25 17:48:43.929452', last_updated_timestamp=1695660523942, name='portugal-rent-price', run_id='6c34d64fb831426e8e4103f5d350e140', run_link='', source='mlflow-artifacts:/1/6c34d64fb831426e8e4103f5d350e140/artifacts/model', status='READY', status_message='', tags={}, user_id='', version='1'>"
      ]
     },
     "execution_count": 23,
     "metadata": {},
     "output_type": "execute_result"
    }
   ],
   "source": [
    "client.transition_model_version_stage(EXPERIMENT_NAME, '1', 'Production', archive_existing_versions=True)\n",
    "\n",
    "client.update_model_version(EXPERIMENT_NAME, '1', description=f'Atualizado para Produção no dia {datetime.now()}')"
   ]
  },
  {
   "cell_type": "code",
   "execution_count": 29,
   "id": "dff0dc83-9950-4861-853a-bd135b998b01",
   "metadata": {},
   "outputs": [
    {
     "data": {
      "text/plain": [
       "<ModelVersion: aliases=[], creation_timestamp=1695660779835, current_stage='Production', description='Atualizado para Produção no dia 2023-09-25 17:54:28.639110', last_updated_timestamp=1695660868649, name='portugal-rent-price', run_id='3a4453b0f9274a808b0d7f162453a9da', run_link='', source='mlflow-artifacts:/1/3a4453b0f9274a808b0d7f162453a9da/artifacts/model', status='READY', status_message='', tags={}, user_id='', version='2'>"
      ]
     },
     "execution_count": 29,
     "metadata": {},
     "output_type": "execute_result"
    }
   ],
   "source": [
    "client.transition_model_version_stage(EXPERIMENT_NAME, '2', 'Production', archive_existing_versions=True)\n",
    "\n",
    "client.update_model_version(EXPERIMENT_NAME, '2', description=f'Atualizado para Produção no dia {datetime.now()}')"
   ]
  },
  {
   "cell_type": "markdown",
   "id": "4ff8b5d1-44c5-4ea2-bfa4-54549c313035",
   "metadata": {},
   "source": [
    "# Coletando Modelo em produção"
   ]
  },
  {
   "cell_type": "code",
   "execution_count": 25,
   "id": "069d1c9a-3aa8-4c6e-8259-6c284cccf815",
   "metadata": {},
   "outputs": [
    {
     "data": {
      "text/plain": [
       "[<ModelVersion: aliases=[], creation_timestamp=1695660034926, current_stage='Production', description='Atualizado para Produção no dia 2023-09-25 17:48:43.929452', last_updated_timestamp=1695660523942, name='portugal-rent-price', run_id='6c34d64fb831426e8e4103f5d350e140', run_link='', source='mlflow-artifacts:/1/6c34d64fb831426e8e4103f5d350e140/artifacts/model', status='READY', status_message='', tags={}, user_id='', version='1'>]"
      ]
     },
     "execution_count": 25,
     "metadata": {},
     "output_type": "execute_result"
    }
   ],
   "source": [
    "last_prod_version = client.get_latest_versions(EXPERIMENT_NAME, stages=['Production'])\n",
    "last_prod_version"
   ]
  },
  {
   "cell_type": "code",
   "execution_count": 28,
   "id": "39c2dd4d-d8d8-4844-be0f-9bced1a1b461",
   "metadata": {},
   "outputs": [
    {
     "data": {
      "text/plain": [
       "'6c34d64fb831426e8e4103f5d350e140'"
      ]
     },
     "execution_count": 28,
     "metadata": {},
     "output_type": "execute_result"
    }
   ],
   "source": [
    "last_prod_version[0].run_id"
   ]
  },
  {
   "cell_type": "code",
   "execution_count": null,
   "id": "1f0cd815-14dd-435e-995f-e19432d4aa7a",
   "metadata": {},
   "outputs": [],
   "source": []
  }
 ],
 "metadata": {
  "kernelspec": {
   "display_name": "Python 3 (ipykernel)",
   "language": "python",
   "name": "python3"
  },
  "language_info": {
   "codemirror_mode": {
    "name": "ipython",
    "version": 3
   },
   "file_extension": ".py",
   "mimetype": "text/x-python",
   "name": "python",
   "nbconvert_exporter": "python",
   "pygments_lexer": "ipython3",
   "version": "3.11.0"
  }
 },
 "nbformat": 4,
 "nbformat_minor": 5
}
