{
 "cells": [
  {
   "cell_type": "code",
   "execution_count": 18,
   "id": "4341ac2d-a594-4bed-9a63-06d688cf01d3",
   "metadata": {},
   "outputs": [],
   "source": [
    "import pandas as pd\n",
    "import numpy as np\n",
    "import matplotlib.pyplot as plt\n",
    "import mlflow\n",
    "\n",
    "from sklearn.linear_model import LinearRegression, Ridge, Lasso, BayesianRidge\n",
    "from sklearn.ensemble import RandomForestRegressor, GradientBoostingRegressor\n",
    "from sklearn.metrics import mean_squared_error\n",
    "\n",
    "import warnings\n",
    "warnings.filterwarnings('ignore')"
   ]
  },
  {
   "cell_type": "code",
   "execution_count": 9,
   "id": "51cdbebb-892d-4945-aed3-647f2263ea64",
   "metadata": {},
   "outputs": [
    {
     "data": {
      "text/html": [
       "<div>\n",
       "<style scoped>\n",
       "    .dataframe tbody tr th:only-of-type {\n",
       "        vertical-align: middle;\n",
       "    }\n",
       "\n",
       "    .dataframe tbody tr th {\n",
       "        vertical-align: top;\n",
       "    }\n",
       "\n",
       "    .dataframe thead th {\n",
       "        text-align: right;\n",
       "    }\n",
       "</style>\n",
       "<table border=\"1\" class=\"dataframe\">\n",
       "  <thead>\n",
       "    <tr style=\"text-align: right;\">\n",
       "      <th></th>\n",
       "      <th>price</th>\n",
       "      <th>energy_certify</th>\n",
       "      <th>metric</th>\n",
       "      <th>description</th>\n",
       "      <th>location</th>\n",
       "      <th>rooms</th>\n",
       "      <th>company</th>\n",
       "      <th>property_type</th>\n",
       "      <th>district</th>\n",
       "      <th>bathroom</th>\n",
       "      <th>condition</th>\n",
       "    </tr>\n",
       "  </thead>\n",
       "  <tbody>\n",
       "    <tr>\n",
       "      <th>0</th>\n",
       "      <td>3000</td>\n",
       "      <td>D</td>\n",
       "      <td>96.0</td>\n",
       "      <td>Apartamento T3, próximo da NOVA, para arrendar...</td>\n",
       "      <td>Carcavelos e Parede, Cascais, Lisboa</td>\n",
       "      <td>3</td>\n",
       "      <td>NA</td>\n",
       "      <td>apartamento</td>\n",
       "      <td>Lisboa</td>\n",
       "      <td>2.0</td>\n",
       "      <td>Usado</td>\n",
       "    </tr>\n",
       "    <tr>\n",
       "      <th>1</th>\n",
       "      <td>1400</td>\n",
       "      <td>Isento / Em Trâmite</td>\n",
       "      <td>74.0</td>\n",
       "      <td>Novidade - ARRENDAMENTO - T3 Porto Baixa</td>\n",
       "      <td>Bonfim, Porto</td>\n",
       "      <td>3</td>\n",
       "      <td>NA</td>\n",
       "      <td>apartamento</td>\n",
       "      <td>Porto</td>\n",
       "      <td>2.0</td>\n",
       "      <td>Usado</td>\n",
       "    </tr>\n",
       "    <tr>\n",
       "      <th>2</th>\n",
       "      <td>2650</td>\n",
       "      <td>B</td>\n",
       "      <td>127.0</td>\n",
       "      <td>T3 condomínio fechado | Benfica</td>\n",
       "      <td>Benfica, Lisboa</td>\n",
       "      <td>3</td>\n",
       "      <td>NA</td>\n",
       "      <td>apartamento</td>\n",
       "      <td>Lisboa</td>\n",
       "      <td>2.0</td>\n",
       "      <td>Renovado</td>\n",
       "    </tr>\n",
       "    <tr>\n",
       "      <th>3</th>\n",
       "      <td>8500</td>\n",
       "      <td>D</td>\n",
       "      <td>245.0</td>\n",
       "      <td>Moradia T5 para arrendamento</td>\n",
       "      <td>Oeiras e São Julião da Barra, Paço de Arcos e ...</td>\n",
       "      <td>5</td>\n",
       "      <td>RE/MAX Siimgroup</td>\n",
       "      <td>moradia</td>\n",
       "      <td>Lisboa</td>\n",
       "      <td>4.0</td>\n",
       "      <td>Novo</td>\n",
       "    </tr>\n",
       "    <tr>\n",
       "      <th>4</th>\n",
       "      <td>1500</td>\n",
       "      <td>C</td>\n",
       "      <td>50.0</td>\n",
       "      <td>Arrendamento Férias - Apartamento T1 no Alto d...</td>\n",
       "      <td>Portimão, Faro</td>\n",
       "      <td>1</td>\n",
       "      <td>Abracadabra - Mediação Imobiliária Unipessoal,...</td>\n",
       "      <td>apartamento</td>\n",
       "      <td>Faro</td>\n",
       "      <td>1.0</td>\n",
       "      <td>Usado</td>\n",
       "    </tr>\n",
       "  </tbody>\n",
       "</table>\n",
       "</div>"
      ],
      "text/plain": [
       "   price       energy_certify  metric  \\\n",
       "0   3000                    D    96.0   \n",
       "1   1400  Isento / Em Trâmite    74.0   \n",
       "2   2650                    B   127.0   \n",
       "3   8500                    D   245.0   \n",
       "4   1500                    C    50.0   \n",
       "\n",
       "                                         description  \\\n",
       "0  Apartamento T3, próximo da NOVA, para arrendar...   \n",
       "1           Novidade - ARRENDAMENTO - T3 Porto Baixa   \n",
       "2                    T3 condomínio fechado | Benfica   \n",
       "3                       Moradia T5 para arrendamento   \n",
       "4  Arrendamento Férias - Apartamento T1 no Alto d...   \n",
       "\n",
       "                                            location  rooms  \\\n",
       "0               Carcavelos e Parede, Cascais, Lisboa      3   \n",
       "1                                      Bonfim, Porto      3   \n",
       "2                                    Benfica, Lisboa      3   \n",
       "3  Oeiras e São Julião da Barra, Paço de Arcos e ...      5   \n",
       "4                                     Portimão, Faro      1   \n",
       "\n",
       "                                             company property_type district  \\\n",
       "0                                                 NA   apartamento   Lisboa   \n",
       "1                                                 NA   apartamento    Porto   \n",
       "2                                                 NA   apartamento   Lisboa   \n",
       "3                                   RE/MAX Siimgroup       moradia   Lisboa   \n",
       "4  Abracadabra - Mediação Imobiliária Unipessoal,...   apartamento     Faro   \n",
       "\n",
       "   bathroom condition  \n",
       "0       2.0     Usado  \n",
       "1       2.0     Usado  \n",
       "2       2.0  Renovado  \n",
       "3       4.0      Novo  \n",
       "4       1.0     Usado  "
      ]
     },
     "execution_count": 9,
     "metadata": {},
     "output_type": "execute_result"
    }
   ],
   "source": [
    "df = pd.read_parquet('../data/processed/train.parquet')\n",
    "df.head()"
   ]
  },
  {
   "cell_type": "code",
   "execution_count": 15,
   "id": "0d3514f4-4e3f-4fb0-901d-b57dc6f7c355",
   "metadata": {},
   "outputs": [
    {
     "data": {
      "text/html": [
       "<div>\n",
       "<style scoped>\n",
       "    .dataframe tbody tr th:only-of-type {\n",
       "        vertical-align: middle;\n",
       "    }\n",
       "\n",
       "    .dataframe tbody tr th {\n",
       "        vertical-align: top;\n",
       "    }\n",
       "\n",
       "    .dataframe thead th {\n",
       "        text-align: right;\n",
       "    }\n",
       "</style>\n",
       "<table border=\"1\" class=\"dataframe\">\n",
       "  <thead>\n",
       "    <tr style=\"text-align: right;\">\n",
       "      <th></th>\n",
       "      <th>price</th>\n",
       "      <th>energy_certify</th>\n",
       "      <th>metric</th>\n",
       "      <th>description</th>\n",
       "      <th>location</th>\n",
       "      <th>rooms</th>\n",
       "      <th>company</th>\n",
       "      <th>property_type</th>\n",
       "      <th>district</th>\n",
       "      <th>bathroom</th>\n",
       "      <th>condition</th>\n",
       "    </tr>\n",
       "  </thead>\n",
       "  <tbody>\n",
       "    <tr>\n",
       "      <th>0</th>\n",
       "      <td>900</td>\n",
       "      <td>A+</td>\n",
       "      <td>90.0</td>\n",
       "      <td>Apartamento para alugar</td>\n",
       "      <td>Queluz e Belas, Sintra, Lisboa</td>\n",
       "      <td>2</td>\n",
       "      <td>OLX</td>\n",
       "      <td>apartamento</td>\n",
       "      <td>Lisboa</td>\n",
       "      <td>2.0</td>\n",
       "      <td>Renovado</td>\n",
       "    </tr>\n",
       "    <tr>\n",
       "      <th>1</th>\n",
       "      <td>1950</td>\n",
       "      <td>A</td>\n",
       "      <td>81.7</td>\n",
       "      <td>Apartamento T2 para arrendamento</td>\n",
       "      <td>Alcântara, Lisboa</td>\n",
       "      <td>2</td>\n",
       "      <td>Maxgroup</td>\n",
       "      <td>apartamento</td>\n",
       "      <td>Lisboa</td>\n",
       "      <td>1.0</td>\n",
       "      <td>Usado</td>\n",
       "    </tr>\n",
       "    <tr>\n",
       "      <th>2</th>\n",
       "      <td>1200</td>\n",
       "      <td>E</td>\n",
       "      <td>140.0</td>\n",
       "      <td>Moradia T3 mobilado</td>\n",
       "      <td>Campanhã, Porto</td>\n",
       "      <td>3</td>\n",
       "      <td>OLX</td>\n",
       "      <td>moradia</td>\n",
       "      <td>Porto</td>\n",
       "      <td>2.0</td>\n",
       "      <td>Novo</td>\n",
       "    </tr>\n",
       "    <tr>\n",
       "      <th>3</th>\n",
       "      <td>800</td>\n",
       "      <td>Isento / Em Trâmite</td>\n",
       "      <td>100.0</td>\n",
       "      <td>Arrenda-se T2 Praia Areia Branca Vista mar</td>\n",
       "      <td>Lourinhã e Atalaia, Lourinhã, Lisboa</td>\n",
       "      <td>2</td>\n",
       "      <td>OLX</td>\n",
       "      <td>apartamento</td>\n",
       "      <td>Lisboa</td>\n",
       "      <td>1.0</td>\n",
       "      <td>Usado</td>\n",
       "    </tr>\n",
       "    <tr>\n",
       "      <th>4</th>\n",
       "      <td>2000</td>\n",
       "      <td>E</td>\n",
       "      <td>160.0</td>\n",
       "      <td>Moradia  em Alcochete para arrendar</td>\n",
       "      <td>Alcochete, Setúbal</td>\n",
       "      <td>4</td>\n",
       "      <td>Casafácil - Mediação Imobiliária</td>\n",
       "      <td>moradia</td>\n",
       "      <td>Setúbal</td>\n",
       "      <td>3.0</td>\n",
       "      <td>Renovado</td>\n",
       "    </tr>\n",
       "  </tbody>\n",
       "</table>\n",
       "</div>"
      ],
      "text/plain": [
       "   price       energy_certify  metric  \\\n",
       "0    900                   A+    90.0   \n",
       "1   1950                    A    81.7   \n",
       "2   1200                    E   140.0   \n",
       "3    800  Isento / Em Trâmite   100.0   \n",
       "4   2000                    E   160.0   \n",
       "\n",
       "                                  description  \\\n",
       "0                     Apartamento para alugar   \n",
       "1            Apartamento T2 para arrendamento   \n",
       "2                         Moradia T3 mobilado   \n",
       "3  Arrenda-se T2 Praia Areia Branca Vista mar   \n",
       "4         Moradia  em Alcochete para arrendar   \n",
       "\n",
       "                               location  rooms  \\\n",
       "0        Queluz e Belas, Sintra, Lisboa      2   \n",
       "1                     Alcântara, Lisboa      2   \n",
       "2                       Campanhã, Porto      3   \n",
       "3  Lourinhã e Atalaia, Lourinhã, Lisboa      2   \n",
       "4                    Alcochete, Setúbal      4   \n",
       "\n",
       "                            company property_type district  bathroom condition  \n",
       "0                               OLX   apartamento   Lisboa       2.0  Renovado  \n",
       "1                          Maxgroup   apartamento   Lisboa       1.0     Usado  \n",
       "2                               OLX       moradia    Porto       2.0      Novo  \n",
       "3                               OLX   apartamento   Lisboa       1.0     Usado  \n",
       "4  Casafácil - Mediação Imobiliária       moradia  Setúbal       3.0  Renovado  "
      ]
     },
     "execution_count": 15,
     "metadata": {},
     "output_type": "execute_result"
    }
   ],
   "source": [
    "df_val = pd.read_parquet('../data/processed/val.parquet')\n",
    "df_val.head()"
   ]
  },
  {
   "cell_type": "code",
   "execution_count": 6,
   "id": "b6217c33-6fac-43da-bd20-1175eb2795dc",
   "metadata": {},
   "outputs": [],
   "source": [
    "MLFLOW_TRACKING_URI = 'http://127.0.0.1:5000'"
   ]
  },
  {
   "cell_type": "code",
   "execution_count": 7,
   "id": "a3954217-f98b-40f5-b415-d64e62f8ce60",
   "metadata": {},
   "outputs": [],
   "source": [
    "mlflow.set_tracking_uri(MLFLOW_TRACKING_URI)"
   ]
  },
  {
   "cell_type": "code",
   "execution_count": 8,
   "id": "e8998917-7ce1-423b-9a66-042c67c8e1b4",
   "metadata": {},
   "outputs": [
    {
     "name": "stderr",
     "output_type": "stream",
     "text": [
      "2023/09/18 17:58:46 INFO mlflow.tracking.fluent: Experiment with name 'portugal-rent-price' does not exist. Creating a new experiment.\n"
     ]
    },
    {
     "data": {
      "text/plain": [
       "<Experiment: artifact_location='mlflow-artifacts:/1', creation_time=1695056326392, experiment_id='1', last_update_time=1695056326392, lifecycle_stage='active', name='portugal-rent-price', tags={}>"
      ]
     },
     "execution_count": 8,
     "metadata": {},
     "output_type": "execute_result"
    }
   ],
   "source": [
    "mlflow.set_experiment('portugal-rent-price')"
   ]
  },
  {
   "cell_type": "code",
   "execution_count": 10,
   "id": "538965ba-0a29-4caf-ba98-3b4847897575",
   "metadata": {},
   "outputs": [],
   "source": [
    "model = LinearRegression()"
   ]
  },
  {
   "cell_type": "code",
   "execution_count": 11,
   "id": "5ef8ebd5-cea5-4987-88ea-30bf9f8ff2bb",
   "metadata": {},
   "outputs": [
    {
     "name": "stdout",
     "output_type": "stream",
     "text": [
      "(2091, 3)\n",
      "(2091,)\n"
     ]
    }
   ],
   "source": [
    "X_train = df[['metric', 'rooms', 'bathroom']]\n",
    "y_train = df['price']\n",
    "print(X_train.shape)\n",
    "print(y_train.shape)\n"
   ]
  },
  {
   "cell_type": "code",
   "execution_count": 13,
   "id": "4463f4a0-992a-47f0-8c08-cfdbc0653725",
   "metadata": {},
   "outputs": [
    {
     "data": {
      "text/html": [
       "<style>#sk-container-id-1 {color: black;}#sk-container-id-1 pre{padding: 0;}#sk-container-id-1 div.sk-toggleable {background-color: white;}#sk-container-id-1 label.sk-toggleable__label {cursor: pointer;display: block;width: 100%;margin-bottom: 0;padding: 0.3em;box-sizing: border-box;text-align: center;}#sk-container-id-1 label.sk-toggleable__label-arrow:before {content: \"▸\";float: left;margin-right: 0.25em;color: #696969;}#sk-container-id-1 label.sk-toggleable__label-arrow:hover:before {color: black;}#sk-container-id-1 div.sk-estimator:hover label.sk-toggleable__label-arrow:before {color: black;}#sk-container-id-1 div.sk-toggleable__content {max-height: 0;max-width: 0;overflow: hidden;text-align: left;background-color: #f0f8ff;}#sk-container-id-1 div.sk-toggleable__content pre {margin: 0.2em;color: black;border-radius: 0.25em;background-color: #f0f8ff;}#sk-container-id-1 input.sk-toggleable__control:checked~div.sk-toggleable__content {max-height: 200px;max-width: 100%;overflow: auto;}#sk-container-id-1 input.sk-toggleable__control:checked~label.sk-toggleable__label-arrow:before {content: \"▾\";}#sk-container-id-1 div.sk-estimator input.sk-toggleable__control:checked~label.sk-toggleable__label {background-color: #d4ebff;}#sk-container-id-1 div.sk-label input.sk-toggleable__control:checked~label.sk-toggleable__label {background-color: #d4ebff;}#sk-container-id-1 input.sk-hidden--visually {border: 0;clip: rect(1px 1px 1px 1px);clip: rect(1px, 1px, 1px, 1px);height: 1px;margin: -1px;overflow: hidden;padding: 0;position: absolute;width: 1px;}#sk-container-id-1 div.sk-estimator {font-family: monospace;background-color: #f0f8ff;border: 1px dotted black;border-radius: 0.25em;box-sizing: border-box;margin-bottom: 0.5em;}#sk-container-id-1 div.sk-estimator:hover {background-color: #d4ebff;}#sk-container-id-1 div.sk-parallel-item::after {content: \"\";width: 100%;border-bottom: 1px solid gray;flex-grow: 1;}#sk-container-id-1 div.sk-label:hover label.sk-toggleable__label {background-color: #d4ebff;}#sk-container-id-1 div.sk-serial::before {content: \"\";position: absolute;border-left: 1px solid gray;box-sizing: border-box;top: 0;bottom: 0;left: 50%;z-index: 0;}#sk-container-id-1 div.sk-serial {display: flex;flex-direction: column;align-items: center;background-color: white;padding-right: 0.2em;padding-left: 0.2em;position: relative;}#sk-container-id-1 div.sk-item {position: relative;z-index: 1;}#sk-container-id-1 div.sk-parallel {display: flex;align-items: stretch;justify-content: center;background-color: white;position: relative;}#sk-container-id-1 div.sk-item::before, #sk-container-id-1 div.sk-parallel-item::before {content: \"\";position: absolute;border-left: 1px solid gray;box-sizing: border-box;top: 0;bottom: 0;left: 50%;z-index: -1;}#sk-container-id-1 div.sk-parallel-item {display: flex;flex-direction: column;z-index: 1;position: relative;background-color: white;}#sk-container-id-1 div.sk-parallel-item:first-child::after {align-self: flex-end;width: 50%;}#sk-container-id-1 div.sk-parallel-item:last-child::after {align-self: flex-start;width: 50%;}#sk-container-id-1 div.sk-parallel-item:only-child::after {width: 0;}#sk-container-id-1 div.sk-dashed-wrapped {border: 1px dashed gray;margin: 0 0.4em 0.5em 0.4em;box-sizing: border-box;padding-bottom: 0.4em;background-color: white;}#sk-container-id-1 div.sk-label label {font-family: monospace;font-weight: bold;display: inline-block;line-height: 1.2em;}#sk-container-id-1 div.sk-label-container {text-align: center;}#sk-container-id-1 div.sk-container {/* jupyter's `normalize.less` sets `[hidden] { display: none; }` but bootstrap.min.css set `[hidden] { display: none !important; }` so we also need the `!important` here to be able to override the default hidden behavior on the sphinx rendered scikit-learn.org. See: https://github.com/scikit-learn/scikit-learn/issues/21755 */display: inline-block !important;position: relative;}#sk-container-id-1 div.sk-text-repr-fallback {display: none;}</style><div id=\"sk-container-id-1\" class=\"sk-top-container\"><div class=\"sk-text-repr-fallback\"><pre>LinearRegression()</pre><b>In a Jupyter environment, please rerun this cell to show the HTML representation or trust the notebook. <br />On GitHub, the HTML representation is unable to render, please try loading this page with nbviewer.org.</b></div><div class=\"sk-container\" hidden><div class=\"sk-item\"><div class=\"sk-estimator sk-toggleable\"><input class=\"sk-toggleable__control sk-hidden--visually\" id=\"sk-estimator-id-1\" type=\"checkbox\" checked><label for=\"sk-estimator-id-1\" class=\"sk-toggleable__label sk-toggleable__label-arrow\">LinearRegression</label><div class=\"sk-toggleable__content\"><pre>LinearRegression()</pre></div></div></div></div></div>"
      ],
      "text/plain": [
       "LinearRegression()"
      ]
     },
     "execution_count": 13,
     "metadata": {},
     "output_type": "execute_result"
    }
   ],
   "source": [
    "model.fit(X_train, y_train)"
   ]
  },
  {
   "cell_type": "code",
   "execution_count": 17,
   "id": "4596d6ac-4f3c-4464-b33b-2120824d7f27",
   "metadata": {},
   "outputs": [],
   "source": [
    "pred = model.predict(df_val[['metric', 'rooms', 'bathroom']])"
   ]
  },
  {
   "cell_type": "code",
   "execution_count": 19,
   "id": "d2c7365e-6b04-4c74-a867-a8c29d4c912e",
   "metadata": {},
   "outputs": [
    {
     "data": {
      "text/plain": [
       "1757.807130498822"
      ]
     },
     "execution_count": 19,
     "metadata": {},
     "output_type": "execute_result"
    }
   ],
   "source": [
    "mean_squared_error(df_val['price'], pred, squared=False)"
   ]
  },
  {
   "cell_type": "code",
   "execution_count": 21,
   "id": "863da89c-adfe-4cbb-b794-42d8c8b0cb5a",
   "metadata": {},
   "outputs": [],
   "source": [
    "with mlflow.start_run():\n",
    "    mlflow.set_tag('developer', \"marcospaulo\")\n",
    "\n",
    "    mlflow.log_param('train-data-path', '../data/processed/train.parquet')\n",
    "\n",
    "    alpha = 0.1\n",
    "    mlflow.log_param('alpha', alpha)\n",
    "    lr_model = LinearRegression()\n",
    "    lr_model.fit(X_train, y_train)\n",
    "\n",
    "    y_pred = lr_model.predict(df_val[['metric', 'rooms', 'bathroom']])\n",
    "\n",
    "    mse = mean_squared_error(df_val['price'], pred, squared=False)\n",
    "    mlflow.log_param('mse', mse)"
   ]
  },
  {
   "cell_type": "code",
   "execution_count": null,
   "id": "103e0884-b91c-4202-9504-4c5f04849cc2",
   "metadata": {},
   "outputs": [],
   "source": []
  }
 ],
 "metadata": {
  "kernelspec": {
   "display_name": "Python 3 (ipykernel)",
   "language": "python",
   "name": "python3"
  },
  "language_info": {
   "codemirror_mode": {
    "name": "ipython",
    "version": 3
   },
   "file_extension": ".py",
   "mimetype": "text/x-python",
   "name": "python",
   "nbconvert_exporter": "python",
   "pygments_lexer": "ipython3",
   "version": "3.11.0"
  }
 },
 "nbformat": 4,
 "nbformat_minor": 5
}
