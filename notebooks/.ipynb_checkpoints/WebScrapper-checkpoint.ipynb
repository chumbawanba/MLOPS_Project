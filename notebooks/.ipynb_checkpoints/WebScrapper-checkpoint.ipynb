{
 "cells": [
  {
   "cell_type": "markdown",
   "id": "a02dd7fd-61a7-4250-9d8a-4d10756027c7",
   "metadata": {},
   "source": [
    "# 1. Impots"
   ]
  },
  {
   "cell_type": "code",
   "execution_count": 7,
   "id": "52b77fb8-d9f9-41b2-838d-7cad4a956779",
   "metadata": {},
   "outputs": [],
   "source": [
    "import requests\n",
    "import pandas as pd\n",
    "\n",
    "from bs4 import BeautifulSoup"
   ]
  },
  {
   "cell_type": "markdown",
   "id": "aa811038-966b-4bf7-8e41-263e969a2796",
   "metadata": {},
   "source": [
    "# 2. Explocação"
   ]
  },
  {
   "cell_type": "code",
   "execution_count": 10,
   "id": "e313a733-3e21-4a7d-b5aa-5a0553d142ee",
   "metadata": {},
   "outputs": [],
   "source": [
    "response = requests.get('https://www.imovirtual.com/arrendar/apartamento/', headers = {\"User-Agent\": \"Mozilla/5.0 (Windows NT 10.0; Win64; x64)\"})"
   ]
  },
  {
   "cell_type": "code",
   "execution_count": 11,
   "id": "9dab2ede-80c0-4052-8fec-49898aa7fd6c",
   "metadata": {},
   "outputs": [
    {
     "data": {
      "text/plain": [
       "<Response [200]>"
      ]
     },
     "execution_count": 11,
     "metadata": {},
     "output_type": "execute_result"
    }
   ],
   "source": [
    "response"
   ]
  },
  {
   "cell_type": "code",
   "execution_count": 16,
   "id": "bde0e1bd-ca60-418a-8954-73df08173f9d",
   "metadata": {},
   "outputs": [],
   "source": [
    "if response.status_code ==  200:\n",
    "    soup = BeautifulSoup(response.content, \"html.parser\")\n",
    "\n",
    "    soup"
   ]
  },
  {
   "cell_type": "code",
   "execution_count": 20,
   "id": "49d5f0cc-544b-4a4f-b05e-557bc9d2b1d6",
   "metadata": {},
   "outputs": [],
   "source": [
    "list_ads = soup.find_all('article')"
   ]
  },
  {
   "cell_type": "code",
   "execution_count": 24,
   "id": "f3cad7a4-e8b7-4fbe-81bd-eb4a353537da",
   "metadata": {},
   "outputs": [
    {
     "name": "stdout",
     "output_type": "stream",
     "text": [
      "<span class=\"offer-item-title\">Apartamento T2+1 para arrendamento com móveis em Arroios</span>\n",
      "<span class=\"offer-item-title\">Apartamento T1 mobilado e equipado para arrendamento no Monte Estoril</span>\n",
      "<span class=\"offer-item-title\">Apartamento T2 para arrendar no Aviz, em Aldoar, Porto</span>\n",
      "<span class=\"offer-item-title\">Apartamento com 160m2 e estacionamento, para arrendar em Miraflores</span>\n",
      "<span class=\"offer-item-title\">Apartamento T2 novo, na Azenha, Paranhos</span>\n",
      "<span class=\"offer-item-title\">Apartamento T1Kit , novo, em frente ao Hospital S. João</span>\n",
      "<span class=\"offer-item-title\">T3 para arrendamento no condomínio Parque Oceano II em Oe...</span>\n",
      "<span class=\"offer-item-title\">Apartamento T1 à arrendar na rua Professor Armando de Castro, 17 Porto</span>\n",
      "<span class=\"offer-item-title\">Apartamento T2 com terraço para arrendamento, na Graça</span>\n",
      "<span class=\"offer-item-title\">Apartamento T1 Paranhos</span>\n",
      "<span class=\"offer-item-title\">Apartamento T1 Hospital S João, Paranhos</span>\n",
      "<span class=\"offer-item-title\">Apartamento T3 para arrendamento na Penha de França, Lisboa</span>\n",
      "<span class=\"offer-item-title\">Apartamento para arrendamento na Sobreda perto das praias</span>\n",
      "<span class=\"offer-item-title\">Apartamento T4 para arrendamento</span>\n",
      "<span class=\"offer-item-title\">T4 Alcântara Residence</span>\n",
      "<span class=\"offer-item-title\">Apartamento T5 em Lisboa de 190,00 m2</span>\n",
      "<span class=\"offer-item-title\">Apartamento T3 | Av. Roma</span>\n",
      "<span class=\"offer-item-title\">Apartamento T3 para arrendamento</span>\n",
      "<span class=\"offer-item-title\">Apartamento T1 - Guimarães - Universidade do Minho - Mobilado e Equipa</span>\n",
      "<span class=\"offer-item-title\">Apartamento T2 | Telheiras Sul</span>\n",
      "<span class=\"offer-item-title\">T1+1 (transformado em T2) a 1,5km da rotunda de Santo Ovídeo</span>\n",
      "<span class=\"offer-item-title\">Apartamento T1+2 com jardim perto do Marquês de Pombal, Lisboa</span>\n",
      "<span class=\"offer-item-title\">T3 em Miraflores como novo, totalmente mobilado.</span>\n",
      "<span class=\"offer-item-title\">T3 nos Fidalguinhos (AF)</span>\n"
     ]
    }
   ],
   "source": [
    "for ad in list_ads:\n",
    "   # print(ad.find('li', {'class': 'offer-item-price'}))\n",
    "    print(ad.find('span', {'class': 'offer-item-title'}))"
   ]
  },
  {
   "cell_type": "code",
   "execution_count": null,
   "id": "b3b8432f-7198-41be-b1b1-e8415d2e4f51",
   "metadata": {},
   "outputs": [],
   "source": []
  },
  {
   "cell_type": "code",
   "execution_count": null,
   "id": "e46fa3fb-3c4c-4cc4-867a-0a591f3080e0",
   "metadata": {},
   "outputs": [],
   "source": [
    "/html/body/div[3]/main/section[2]/div/div/div[1]/div/article[1]/div[1]/ul[1]/li[2]"
   ]
  },
  {
   "cell_type": "code",
   "execution_count": 25,
   "id": "64a41f3e-8704-4e4a-971c-5e99b3d586c4",
   "metadata": {},
   "outputs": [
    {
     "ename": "SyntaxError",
     "evalue": "invalid syntax (3870516406.py, line 1)",
     "output_type": "error",
     "traceback": [
      "\u001b[1;36m  Cell \u001b[1;32mIn[25], line 1\u001b[1;36m\u001b[0m\n\u001b[1;33m    ''adasda\u001b[0m\n\u001b[1;37m      ^\u001b[0m\n\u001b[1;31mSyntaxError\u001b[0m\u001b[1;31m:\u001b[0m invalid syntax\n"
     ]
    }
   ],
   "source": []
  },
  {
   "cell_type": "code",
   "execution_count": null,
   "id": "18c7ddcd-91ac-4c16-8e42-a6be75760a4b",
   "metadata": {},
   "outputs": [],
   "source": []
  }
 ],
 "metadata": {
  "kernelspec": {
   "display_name": "Python 3 (ipykernel)",
   "language": "python",
   "name": "python3"
  },
  "language_info": {
   "codemirror_mode": {
    "name": "ipython",
    "version": 3
   },
   "file_extension": ".py",
   "mimetype": "text/x-python",
   "name": "python",
   "nbconvert_exporter": "python",
   "pygments_lexer": "ipython3",
   "version": "3.11.0"
  }
 },
 "nbformat": 4,
 "nbformat_minor": 5
}
